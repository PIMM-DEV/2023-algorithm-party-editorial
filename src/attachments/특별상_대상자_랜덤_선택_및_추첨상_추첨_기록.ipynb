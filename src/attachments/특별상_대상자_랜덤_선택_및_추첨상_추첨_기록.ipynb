{
 "cells": [
  {
   "cell_type": "markdown",
   "metadata": {},
   "source": [
    "# 특별상 통계 자료, 특별상 대상자 랜덤 선택 및 추첨상 추첨 기록"
   ]
  },
  {
   "cell_type": "code",
   "execution_count": 1,
   "metadata": {},
   "outputs": [],
   "source": [
    "from random import choices\n",
    "from json import loads\n",
    "from collections import defaultdict\n",
    "from datetime import datetime, timezone, timedelta\n",
    "from time import mktime\n",
    "\n",
    "submits_loaded: list = loads(open('submits.json', encoding='utf-8').read())"
   ]
  },
  {
   "cell_type": "markdown",
   "metadata": {},
   "source": [
    "## 특별상: 3대 500\n",
    "달성자: `goop2027`  \n",
    "\n",
    "* 달성자 확인에 코드를 사용하지 않았습니다."
   ]
  },
  {
   "cell_type": "markdown",
   "metadata": {
    "id": "2GN5cgbbZhbV"
   },
   "source": [
    "## 특별상: 언어의 마술사\n",
    "달성자: `wizardrabbit`\n",
    "\n",
    "* Python 3와 PyPy3는 하나의 언어로 판단합니다."
   ]
  },
  {
   "cell_type": "code",
   "execution_count": 2,
   "metadata": {},
   "outputs": [
    {
     "name": "stdout",
     "output_type": "stream",
     "text": [
      "[('moonlit', {'Python 3', 'PyPy3', 'C++17'}), ('wizardrabbit', {'Python 3', 'node.js', 'C++17'}), ('tnsgh9603', {'Python 3', 'PyPy3', 'C++17'}), ('yup0927', {'Python 3', 'C++17'}), ('cinador', {'Python 3', 'PyPy3'})]\n"
     ]
    }
   ],
   "source": [
    "language_submits: defaultdict = defaultdict(set)\n",
    "for each in submits_loaded:\n",
    "    submit_id, handle, problem, result, memory, elapsed, language, byte_len, invoked = each\n",
    "    if result == '맞았습니다!!':\n",
    "        language_submits[handle].add(\n",
    "            language\n",
    "            # (''.join([x for x in language if not x.isdigit()])).strip()\n",
    "        )\n",
    "\n",
    "print(sorted(language_submits.items(), key=lambda each: len(each[1]), reverse=True)[:5])"
   ]
  },
  {
   "cell_type": "markdown",
   "metadata": {
    "id": "smXmm8PHZif2"
   },
   "source": [
    "## 특별상: 이 몸 《등장》\n",
    "달성자: `nflight11`"
   ]
  },
  {
   "cell_type": "code",
   "execution_count": 3,
   "metadata": {
    "colab": {
     "base_uri": "https://localhost:8080/"
    },
    "id": "aAOVgtJOZif4",
    "outputId": "ffd90a33-9e5c-4476-d0a6-e1c90fec2975"
   },
   "outputs": [
    {
     "data": {
      "text/plain": [
       "[('nflight11', 1693722021),\n",
       " ('rhgustmd123', 1693722057),\n",
       " ('urin6695', 1693722067)]"
      ]
     },
     "execution_count": 3,
     "metadata": {},
     "output_type": "execute_result"
    }
   ],
   "source": [
    "kst = timezone(timedelta(hours=9))\n",
    "benchmark = int(mktime(datetime(2023, 9, 3, 15, 20, 0, 0, tzinfo=kst).timetuple()))\n",
    "invokes: list[tuple] = []\n",
    "\n",
    "for each in submits_loaded:\n",
    "    submit_id, handle, problem, result, memory, elapsed, language, byte_len, invoked = each\n",
    "    invokes.append((handle, int(invoked)))\n",
    "invokes.sort(key=lambda each: each[1])\n",
    "\n",
    "already_invoked = set()\n",
    "after_benchmark = []\n",
    "for each in invokes:\n",
    "    handle, invoked = each\n",
    "    if benchmark <= invoked and handle not in already_invoked:\n",
    "        after_benchmark.append((handle, invoked))\n",
    "    already_invoked.add(handle)\n",
    "after_benchmark.sort(key=lambda each: each[1])\n",
    "after_benchmark[:3]"
   ]
  },
  {
   "cell_type": "markdown",
   "metadata": {},
   "source": [
    "## 특별상: 한 번만 투표할 수 있습니다.\n",
    "달성자: `kaorin`\n",
    "\n",
    "* 달성자 확인에 코드를 사용하지 않았습니다."
   ]
  },
  {
   "cell_type": "markdown",
   "metadata": {
    "id": "ah2n2NPxaMw2"
   },
   "source": [
    "## 추첨상\n",
    "`pk661`, `delena0702`, `YunGoon`, `cinador`, `xiaowuc1`, `ncy09`, `kkgojn`, `chang1021`"
   ]
  },
  {
   "cell_type": "code",
   "execution_count": 4,
   "metadata": {
    "colab": {
     "base_uri": "https://localhost:8080/"
    },
    "id": "JQniZ8K7aMw4",
    "outputId": "fbbd4b24-328b-4215-e744-f395a0fc2c9f"
   },
   "outputs": [
    {
     "name": "stdout",
     "output_type": "stream",
     "text": [
      "['pk661', 'delena0702', 'YunGoon', 'cinador', 'xiaowuc1', 'ncy09', 'kkgojn', 'chang1021']\n"
     ]
    }
   ],
   "source": [
    "solves = defaultdict(set)\n",
    "for each in submits_loaded:\n",
    "    submit_id, handle, problem, result, memory, elapsed, language, byte_len, invoked = each\n",
    "    if result == '맞았습니다!!':\n",
    "        solves[handle].add(problem)\n",
    "\n",
    "print(choices([handle for handle in solves], [len(solves[handle]) ** 2 for handle in solves], k=8))"
   ]
  },
  {
   "cell_type": "markdown",
   "metadata": {},
   "source": []
  }
 ],
 "metadata": {
  "colab": {
   "provenance": []
  },
  "kernelspec": {
   "display_name": "Python 3 (ipykernel)",
   "language": "python",
   "name": "python3"
  },
  "language_info": {
   "codemirror_mode": {
    "name": "ipython",
    "version": 3
   },
   "file_extension": ".py",
   "mimetype": "text/x-python",
   "name": "python",
   "nbconvert_exporter": "python",
   "pygments_lexer": "ipython3",
   "version": "3.9.6"
  }
 },
 "nbformat": 4,
 "nbformat_minor": 1
}
